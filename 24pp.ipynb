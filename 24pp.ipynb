{
 "cells": [
  {
   "cell_type": "code",
   "execution_count": 1,
   "metadata": {
    "collapsed": true
   },
   "outputs": [],
   "source": [
    "import numpy as np\n",
    "from itertools import combinations"
   ]
  },
  {
   "cell_type": "code",
   "execution_count": 2,
   "metadata": {
    "collapsed": true
   },
   "outputs": [],
   "source": [
    "def make_deck():\n",
    "    return [1,2,3,4,5,6,7,8,9,10,10,10,10]*4"
   ]
  },
  {
   "cell_type": "code",
   "execution_count": 3,
   "metadata": {
    "collapsed": true
   },
   "outputs": [],
   "source": [
    "def create_game():\n",
    "    deck = make_deck()\n",
    "    np.random.shuffle(deck)\n",
    "    hand = deck[:7]\n",
    "    val = list(filter((10).__ne__, deck[7:]))[:3]\n",
    "    return hand, 100*val[0] + 10*val[1] + val[2]"
   ]
  },
  {
   "cell_type": "code",
   "execution_count": 8,
   "metadata": {
    "collapsed": true
   },
   "outputs": [],
   "source": [
    "ops = ['+', '-', '*', '/']\n",
    "inverse_ops = {'+':'-', '-':'+', '*':'/', '/':'x'}\n",
    "\n",
    "def solver(hand, val):\n",
    "    if len(hand) == 0 and val == 0:\n",
    "        return True, []\n",
    "    hand_c = hand.copy()\n",
    "    for card in hand_c:\n",
    "        hand.remove(card)\n",
    "        for op in ops:\n",
    "            if op == '/':\n",
    "                w, l = solver(hand, val / card)\n",
    "            elif op == '-':\n",
    "                w, l = solver(hand, val - card)\n",
    "            elif op == '+':\n",
    "                w, l = solver(hand, val + card)\n",
    "            else:\n",
    "                w, l = solver(hand, val * card)\n",
    "            if w:\n",
    "                l.append([card, op])\n",
    "                return True, l\n",
    "        hand.append(card)\n",
    "    return False, []"
   ]
  },
  {
   "cell_type": "code",
   "execution_count": 22,
   "metadata": {
    "collapsed": true
   },
   "outputs": [],
   "source": [
    "def pretty_print(sol):\n",
    "    pretty = str(sol[0][0]) if sol[0][1] == '-' else str(-sol[0][0])\n",
    "    for i, (card, op) in enumerate(sol[1:]):\n",
    "        if i == 0:\n",
    "            pretty = pretty + ' ' + inverse_ops[op] + ' ' + str(card)\n",
    "        else:    \n",
    "            pretty = '(' + pretty + ') ' + inverse_ops[op] + ' ' + str(card)\n",
    "    return pretty"
   ]
  },
  {
   "cell_type": "code",
   "execution_count": 36,
   "metadata": {},
   "outputs": [],
   "source": [
    "def play(verbose = True):\n",
    "    h, v = create_game()\n",
    "    if verbose:\n",
    "        print(str(v) + ': ' + str(h))\n",
    "    status, sol = solver(h, v)\n",
    "    if verbose:\n",
    "        if status:\n",
    "            print('Solution: ' + pretty_print(sol))\n",
    "        else:\n",
    "            print('No Solution Found')\n",
    "        return\n",
    "    else:\n",
    "        return status, sol, h, v"
   ]
  },
  {
   "cell_type": "code",
   "execution_count": 37,
   "metadata": {},
   "outputs": [
    {
     "name": "stdout",
     "output_type": "stream",
     "text": [
      "795: [10, 9, 6, 3, 10, 10, 10]\n",
      "293: [3, 5, 2, 1, 1, 1, 2]\n",
      "345: [10, 10, 10, 10, 8, 7, 10]\n",
      "744: [10, 10, 9, 10, 10, 7, 10]\n",
      "0.96\n"
     ]
    }
   ],
   "source": [
    "N = 100\n",
    "count = 0\n",
    "for _ in range(N):\n",
    "    status, sol, h, v = play(False)\n",
    "    if status:\n",
    "        count += 1\n",
    "    else:\n",
    "        print(str(v) + ': ' + str(h))\n",
    "print(count/N)"
   ]
  },
  {
   "cell_type": "code",
   "execution_count": null,
   "metadata": {},
   "outputs": [],
   "source": []
  },
  {
   "cell_type": "code",
   "execution_count": null,
   "metadata": {
    "collapsed": true
   },
   "outputs": [],
   "source": []
  }
 ],
 "metadata": {
  "kernelspec": {
   "display_name": "Python 3",
   "language": "python",
   "name": "python3"
  },
  "language_info": {
   "codemirror_mode": {
    "name": "ipython",
    "version": 3
   },
   "file_extension": ".py",
   "mimetype": "text/x-python",
   "name": "python",
   "nbconvert_exporter": "python",
   "pygments_lexer": "ipython3",
   "version": "3.6.2"
  }
 },
 "nbformat": 4,
 "nbformat_minor": 2
}
