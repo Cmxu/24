{
 "cells": [
  {
   "cell_type": "code",
   "execution_count": 1,
   "metadata": {
    "collapsed": true
   },
   "outputs": [],
   "source": [
    "import numpy as np\n",
    "from itertools import combinations"
   ]
  },
  {
   "cell_type": "code",
   "execution_count": 2,
   "metadata": {
    "collapsed": true
   },
   "outputs": [],
   "source": [
    "def make_deck():\n",
    "    return [1,2,3,4,5,6,7,8,9,10,10,10,10]*4"
   ]
  },
  {
   "cell_type": "code",
   "execution_count": 3,
   "metadata": {
    "collapsed": true
   },
   "outputs": [],
   "source": [
    "def create_game():\n",
    "    deck = make_deck()\n",
    "    np.random.shuffle(deck)\n",
    "    hand = deck[:7]\n",
    "    val = list(filter((10).__ne__, deck[7:]))[:3]\n",
    "    return hand, 100*val[0] + 10*val[1] + val[2]"
   ]
  },
  {
   "cell_type": "code",
   "execution_count": 8,
   "metadata": {
    "collapsed": true
   },
   "outputs": [],
   "source": [
    "ops = ['+', '-', '*', '/']\n",
    "inverse_ops = {'+':'-', '-':'+', '*':'/', '/':'x'}\n",
    "\n",
    "def solver(hand, val):\n",
    "    if len(hand) == 0 and val == 0:\n",
    "        return True, []\n",
    "    hand_c = hand.copy()\n",
    "    for card in hand_c:\n",
    "        hand.remove(card)\n",
    "        for op in ops:\n",
    "            if op == '/':\n",
    "                w, l = solver(hand, val / card)\n",
    "            elif op == '-':\n",
    "                w, l = solver(hand, val - card)\n",
    "            elif op == '+':\n",
    "                w, l = solver(hand, val + card)\n",
    "            else:\n",
    "                w, l = solver(hand, val * card)\n",
    "            if w:\n",
    "                l.append([card, op])\n",
    "                return True, l\n",
    "        hand.append(card)\n",
    "    return False, []"
   ]
  },
  {
   "cell_type": "code",
   "execution_count": 22,
   "metadata": {
    "collapsed": true
   },
   "outputs": [],
   "source": [
    "def pretty_print(sol):\n",
    "    pretty = str(sol[0][0]) if sol[0][1] == '-' else str(-sol[0][0])\n",
    "    for i, (card, op) in enumerate(sol[1:]):\n",
    "        if i == 0:\n",
    "            pretty = pretty + ' ' + inverse_ops[op] + ' ' + str(card)\n",
    "        else:    \n",
    "            pretty = '(' + pretty + ') ' + inverse_ops[op] + ' ' + str(card)\n",
    "    return pretty"
   ]
  },
  {
   "cell_type": "code",
   "execution_count": 36,
   "metadata": {},
   "outputs": [],
   "source": [
    "def play(verbose = True):\n",
    "    h, v = create_game()\n",
    "    if verbose:\n",
    "        print(str(v) + ': ' + str(h))\n",
    "    status, sol = solver(h, v)\n",
    "    if verbose:\n",
    "        if status:\n",
    "            print('Solution: ' + pretty_print(sol))\n",
    "        else:\n",
    "            print('No Solution Found')\n",
    "        return\n",
    "    else:\n",
    "        return status, sol, h, v"
   ]
  },
  {
   "cell_type": "code",
   "execution_count": 37,
   "metadata": {},
   "outputs": [
    {
     "name": "stdout",
     "output_type": "stream",
     "text": [
      "795: [10, 9, 6, 3, 10, 10, 10]\n",
      "293: [3, 5, 2, 1, 1, 1, 2]\n",
      "345: [10, 10, 10, 10, 8, 7, 10]\n",
      "744: [10, 10, 9, 10, 10, 7, 10]\n",
      "0.96\n"
     ]
    }
   ],
   "source": [
    "N = 100\n",
    "count = 0\n",
    "for _ in range(N):\n",
    "    status, sol, h, v = play(False)\n",
    "    if status:\n",
    "        count += 1\n",
    "    else:\n",
    "        print(str(v) + ': ' + str(h))\n",
    "print(count/N)"
   ]
  },
  {
   "cell_type": "code",
   "execution_count": 38,
   "metadata": {},
   "outputs": [
    {
     "name": "stdout",
     "output_type": "stream",
     "text": [
      "732: [10, 10, 5, 2, 2, 10, 10]\n",
      "857: [4, 10, 4, 10, 10, 1, 4]\n",
      "833: [10, 4, 10, 10, 10, 10, 1]\n",
      "615: [3, 10, 1, 10, 10, 10, 7]\n",
      "429: [10, 10, 8, 10, 10, 10, 7]\n",
      "572: [10, 10, 4, 1, 10, 10, 1]\n",
      "444: [10, 10, 9, 10, 10, 9, 10]\n",
      "317: [6, 10, 4, 10, 10, 6, 10]\n",
      "952: [10, 10, 10, 6, 5, 10, 10]\n",
      "924: [7, 1, 5, 1, 3, 5, 1]\n",
      "847: [10, 10, 2, 8, 4, 6, 6]\n",
      "858: [1, 2, 2, 10, 9, 1, 3]\n",
      "897: [6, 10, 4, 10, 8, 8, 6]\n",
      "936: [10, 10, 10, 7, 5, 10, 10]\n",
      "413: [10, 10, 10, 10, 5, 10, 6]\n",
      "938: [10, 10, 6, 5, 10, 1, 10]\n",
      "766: [1, 10, 10, 10, 10, 10, 10]\n",
      "782: [10, 5, 10, 10, 10, 9, 1]\n",
      "365: [10, 10, 10, 6, 3, 10, 10]\n",
      "931: [10, 10, 10, 9, 9, 9, 1]\n",
      "577: [10, 1, 10, 9, 10, 1, 10]\n",
      "346: [10, 7, 9, 10, 10, 10, 8]\n",
      "924: [7, 10, 10, 9, 2, 10, 10]\n",
      "423: [2, 2, 4, 10, 10, 10, 10]\n",
      "837: [1, 8, 1, 10, 6, 1, 10]\n",
      "834: [10, 10, 10, 2, 10, 7, 10]\n",
      "931: [10, 2, 4, 8, 5, 2, 1]\n",
      "943: [4, 10, 10, 5, 10, 1, 5]\n",
      "527: [1, 9, 1, 8, 1, 9, 9]\n",
      "862: [5, 10, 10, 10, 4, 1, 10]\n",
      "563: [10, 4, 2, 9, 4, 2, 4]\n",
      "731: [6, 2, 10, 4, 4, 4, 8]\n",
      "882: [6, 10, 6, 10, 1, 10, 10]\n",
      "983: [10, 10, 10, 9, 1, 10, 10]\n",
      "792: [5, 10, 10, 10, 10, 7, 5]\n",
      "945: [10, 6, 3, 7, 10, 10, 10]\n",
      "933: [10, 1, 10, 10, 10, 9, 10]\n",
      "959: [1, 9, 9, 1, 1, 10, 2]\n",
      "687: [1, 1, 1, 8, 3, 5, 4]\n",
      "713: [10, 10, 2, 10, 5, 10, 10]\n",
      "537: [9, 10, 10, 5, 10, 10, 10]\n",
      "811: [10, 2, 3, 10, 10, 10, 6]\n",
      "349: [10, 3, 10, 10, 10, 10, 2]\n",
      "865: [1, 10, 10, 10, 3, 10, 7]\n",
      "878: [10, 10, 10, 10, 10, 6, 10]\n",
      "921: [4, 10, 2, 6, 6, 2, 8]\n",
      "852: [10, 5, 6, 10, 10, 10, 1]\n",
      "251: [10, 10, 10, 10, 10, 10, 10]\n",
      "938: [5, 1, 4, 10, 10, 4, 10]\n",
      "528: [10, 10, 8, 10, 1, 10, 1]\n",
      "771: [5, 5, 1, 1, 6, 4, 3]\n",
      "653: [8, 6, 2, 1, 1, 1, 5]\n",
      "968: [10, 10, 10, 10, 1, 10, 3]\n",
      "685: [10, 3, 1, 10, 10, 10, 1]\n",
      "869: [10, 10, 8, 10, 7, 2, 10]\n",
      "738: [6, 10, 10, 6, 10, 10, 10]\n",
      "911: [5, 10, 10, 10, 10, 10, 10]\n",
      "597: [10, 10, 8, 5, 10, 10, 10]\n",
      "475: [1, 10, 10, 10, 3, 10, 10]\n",
      "591: [10, 10, 10, 10, 3, 10, 8]\n",
      "983: [1, 3, 10, 4, 3, 2, 10]\n",
      "925: [1, 1, 8, 10, 10, 1, 3]\n",
      "813: [10, 1, 10, 10, 10, 10, 10]\n",
      "497: [6, 10, 10, 10, 10, 6, 10]\n",
      "685: [3, 1, 2, 3, 2, 3, 5]\n",
      "674: [10, 10, 2, 8, 10, 10, 10]\n",
      "613: [10, 10, 9, 10, 9, 10, 2]\n",
      "784: [2, 10, 10, 10, 10, 9, 5]\n",
      "549: [1, 3, 7, 1, 2, 1, 5]\n",
      "718: [4, 10, 10, 10, 10, 10, 9]\n",
      "138: [6, 10, 10, 10, 10, 10, 9]\n",
      "637: [2, 2, 1, 2, 1, 10, 2]\n",
      "168: [10, 10, 10, 10, 10, 10, 10]\n",
      "925: [3, 10, 10, 9, 10, 10, 10]\n",
      "742: [10, 10, 6, 10, 6, 10, 9]\n",
      "651: [3, 4, 5, 10, 10, 10, 10]\n",
      "975: [2, 2, 6, 4, 2, 5, 2]\n",
      "569: [10, 8, 10, 10, 4, 2, 10]\n",
      "951: [10, 5, 8, 2, 10, 10, 10]\n",
      "789: [6, 6, 4, 4, 4, 10, 4]\n",
      "929: [3, 6, 10, 5, 10, 5, 10]\n",
      "753: [2, 2, 10, 1, 10, 10, 6]\n",
      "329: [10, 10, 10, 6, 10, 10, 7]\n",
      "897: [10, 1, 5, 10, 10, 6, 10]\n",
      "682: [10, 7, 1, 10, 10, 10, 10]\n",
      "421: [10, 7, 5, 10, 10, 8, 10]\n",
      "553: [6, 5, 10, 4, 10, 10, 10]\n",
      "462: [10, 9, 10, 10, 10, 10, 8]\n",
      "747: [4, 10, 2, 4, 2, 8, 10]\n",
      "524: [1, 10, 9, 10, 10, 7, 10]\n",
      "591: [10, 7, 10, 10, 5, 10, 10]\n",
      "931: [10, 10, 2, 10, 5, 10, 3]\n",
      "624: [1, 10, 5, 10, 10, 1, 1]\n",
      "321: [10, 10, 10, 10, 5, 10, 9]\n",
      "731: [2, 10, 10, 4, 6, 4, 10]\n",
      "744: [1, 3, 1, 3, 10, 3, 2]\n",
      "314: [9, 10, 10, 7, 10, 10, 10]\n",
      "459: [10, 10, 8, 3, 10, 6, 10]\n",
      "985: [6, 7, 1, 1, 4, 10, 1]\n",
      "663: [10, 10, 10, 10, 2, 10, 5]\n",
      "949: [3, 4, 2, 2, 7, 2, 10]\n",
      "733: [4, 1, 10, 5, 10, 1, 10]\n",
      "911: [7, 3, 3, 2, 3, 5, 1]\n",
      "621: [10, 3, 5, 10, 10, 10, 10]\n",
      "729: [10, 10, 10, 10, 2, 4, 3]\n",
      "799: [10, 10, 6, 10, 6, 10, 10]\n",
      "0.9646666666666667\n"
     ]
    }
   ],
   "source": [
    "N = 3000\n",
    "count = 0\n",
    "for _ in range(N):\n",
    "    status, sol, h, v = play(False)\n",
    "    if status:\n",
    "        count += 1\n",
    "    else:\n",
    "        print(str(v) + ': ' + str(h))\n",
    "print(count/N)"
   ]
  },
  {
   "cell_type": "code",
   "execution_count": null,
   "metadata": {
    "collapsed": true
   },
   "outputs": [],
   "source": []
  }
 ],
 "metadata": {
  "kernelspec": {
   "display_name": "Python 3",
   "language": "python",
   "name": "python3"
  },
  "language_info": {
   "codemirror_mode": {
    "name": "ipython",
    "version": 3
   },
   "file_extension": ".py",
   "mimetype": "text/x-python",
   "name": "python",
   "nbconvert_exporter": "python",
   "pygments_lexer": "ipython3",
   "version": "3.6.2"
  }
 },
 "nbformat": 4,
 "nbformat_minor": 2
}
